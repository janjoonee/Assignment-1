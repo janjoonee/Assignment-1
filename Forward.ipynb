{
 "cells": [
  {
   "cell_type": "code",
   "execution_count": 4,
   "id": "ea58477e-0b07-44a9-89f7-c6c9570c4246",
   "metadata": {},
   "outputs": [
    {
     "name": "stdout",
     "output_type": "stream",
     "text": [
      "Network Output: [0.6092105259820405, 0.6462902391224948]\n"
     ]
    }
   ],
   "source": [
    "import random\n",
    "import math\n",
    "\n",
    "# Define the tanh activation function\n",
    "def tanh(x):\n",
    "    return (math.exp(x) - math.exp(-x)) / (math.exp(x) + math.exp(-x))\n",
    "\n",
    "# Initialize weights randomly from the range [-0.5, 0.5]\n",
    "def init_weights(rows, cols):\n",
    "    return [[random.uniform(-0.5, 0.5) for _ in range(cols)] for _ in range(rows)]\n",
    "\n",
    "# Inputs\n",
    "inputs = [0.05, 0.10]\n",
    "b1, b2 = 0.5, 0.7  # Bias values\n",
    "\n",
    "# Initialize weights\n",
    "weights_input_hidden = init_weights(2, 2)  # 2 inputs to 2 hidden neurons\n",
    "weights_hidden_output = init_weights(2, 2)  # 2 hidden neurons to 2 outputs\n",
    "\n",
    "# Forward pass: Input to Hidden Layer\n",
    "hidden_layer = []\n",
    "for i in range(2):\n",
    "    net = sum(inputs[j] * weights_input_hidden[j][i] for j in range(2)) + b1\n",
    "    hidden_layer.append(tanh(net))\n",
    "\n",
    "# Forward pass: Hidden Layer to Output Layer\n",
    "output_layer = []\n",
    "for i in range(2):\n",
    "    net = sum(hidden_layer[j] * weights_hidden_output[j][i] for j in range(2)) + b2\n",
    "    output_layer.append(tanh(net))\n",
    "\n",
    "# Print output\n",
    "print(\"Network Output:\", output_layer)\n"
   ]
  },
  {
   "cell_type": "code",
   "execution_count": null,
   "id": "0529cae2-6117-422e-832c-4c754768b245",
   "metadata": {},
   "outputs": [],
   "source": []
  }
 ],
 "metadata": {
  "kernelspec": {
   "display_name": "Python 3 (ipykernel)",
   "language": "python",
   "name": "python3"
  },
  "language_info": {
   "codemirror_mode": {
    "name": "ipython",
    "version": 3
   },
   "file_extension": ".py",
   "mimetype": "text/x-python",
   "name": "python",
   "nbconvert_exporter": "python",
   "pygments_lexer": "ipython3",
   "version": "3.11.7"
  }
 },
 "nbformat": 4,
 "nbformat_minor": 5
}
